{
 "cells": [
  {
   "cell_type": "code",
   "execution_count": 4,
   "id": "54a8663a-87b8-41bd-82e5-1ce41748330e",
   "metadata": {},
   "outputs": [
    {
     "name": "stdin",
     "output_type": "stream",
     "text": [
      "Enter the number:  6\n"
     ]
    },
    {
     "name": "stdout",
     "output_type": "stream",
     "text": [
      " the given number is not prime\n"
     ]
    }
   ],
   "source": [
    "n=int(input(\"Enter the number: \"))\n",
    "if (n%2!=0):\n",
    "    print(f\" the given number {n} is prime\")\n",
    "else:\n",
    "    print(\" the given number is not prime\")\n"
   ]
  },
  {
   "cell_type": "code",
   "execution_count": 5,
   "id": "1f60d648-69e5-4140-9bef-08bf21dde614",
   "metadata": {},
   "outputs": [
    {
     "name": "stdin",
     "output_type": "stream",
     "text": [
      "enter the number 6\n"
     ]
    },
    {
     "name": "stdout",
     "output_type": "stream",
     "text": [
      "0 1 1 2 3 5 "
     ]
    }
   ],
   "source": [
    "\n",
    "def fibanocci(n):\n",
    "    if n==0:\n",
    "        return 0\n",
    "    elif n==1 or n==2:\n",
    "        return 1\n",
    "    else:\n",
    "        return  fibanocci(n-1)+fibanocci(n-2)\n",
    "    \n",
    "n=int(input(\"enter the number\"))\n",
    "for i in range(n):\n",
    "    print(fibanocci(i),end=\" \")"
   ]
  },
  {
   "cell_type": "code",
   "execution_count": 8,
   "id": "8c2dbf99-2ab1-4892-a5bc-2ea333ba7640",
   "metadata": {},
   "outputs": [
    {
     "name": "stdin",
     "output_type": "stream",
     "text": [
      "enter a choice: 7\n",
      "enter a number: 6\n",
      "enter a number: 7\n"
     ]
    },
    {
     "name": "stdout",
     "output_type": "stream",
     "text": [
      "enter a valid choice\n",
      "None\n"
     ]
    }
   ],
   "source": [
    "choice=int(input(\"enter a choice:\"))\n",
    "x=int(input(\"enter a number:\"))\n",
    "y=int(input(\"enter a number:\"))\n",
    "def calculator(x,y,ch):\n",
    "    if ch==1:\n",
    "       print(\"addition\")\n",
    "       return x+y\n",
    "    elif ch==2:\n",
    "         print(\"division \")\n",
    "         return  x/y\n",
    "    elif ch==3:\n",
    "        print(\"multiplication\")\n",
    "        return  x*y\n",
    "    elif  ch==4:\n",
    "        print(\"subtraction\")\n",
    "        return x-y\n",
    "    else:\n",
    "        print (\"enter a valid choice\")\n",
    "        \n",
    "\n",
    "print(  calculator(x,y,choice))\n",
    "\n",
    "\n"
   ]
  },
  {
   "cell_type": "code",
   "execution_count": 12,
   "id": "dfcc1591-e65c-4c27-858e-719f6b700852",
   "metadata": {},
   "outputs": [
    {
     "name": "stdin",
     "output_type": "stream",
     "text": [
      "enetr a list of numbers: 2 2 4 4 5 6 7\n"
     ]
    },
    {
     "name": "stdout",
     "output_type": "stream",
     "text": [
      "the list with no duplicates is : [2, 4, 5, 6, 7]\n"
     ]
    }
   ],
   "source": [
    "n=list(map(int,input(\"enetr a list of numbers:\").split()))\n",
    "newlist=set(n)\n",
    "convert=list(newlist)\n",
    "print(\"the list with no duplicates is :\",convert)"
   ]
  },
  {
   "cell_type": "code",
   "execution_count": 14,
   "id": "a6a62619-52fb-4237-bb23-924d68905392",
   "metadata": {},
   "outputs": [
    {
     "name": "stdout",
     "output_type": "stream",
     "text": [
      "   The dictionary contains: {'name': 'vaishnavi', 'age': 18, 'phno': 657789080}\n"
     ]
    }
   ],
   "source": [
    "dict={}\n",
    "dict[\"name\"]=\"vaishnavi\"\n",
    "dict[\"age\"]=18\n",
    "dict[\"phno\"]=657789080\n",
    "print(\"   The dictionary contains:\",dict)\n"
   ]
  },
  {
   "cell_type": "code",
   "execution_count": 16,
   "id": "bdbcb195-d476-44a8-8d18-a29af3d3ad79",
   "metadata": {},
   "outputs": [
    {
     "name": "stdout",
     "output_type": "stream",
     "text": [
      "matrix  addition is: [[5 8]\n",
      " [4 6]]\n",
      "matrix multiplication is: [[ 4 15]\n",
      " [ 3  8]]\n",
      "matrix subtraction is: [[-3 -2]\n",
      " [ 2  2]]\n"
     ]
    }
   ],
   "source": [
    "import numpy as np\n",
    "mat1=np.array([[1,3],[3,4]])\n",
    "mat2=np.array([[4,5],[1,2]])\n",
    "addition=mat1+mat2\n",
    "subtraction=mat1-mat2\n",
    "multiplication=mat1*mat2\n",
    "print(\"matrix  addition is:\",addition)\n",
    "print(\"matrix multiplication is:\",multiplication)\n",
    "print(\"matrix subtraction is:\",subtraction)"
   ]
  },
  {
   "cell_type": "code",
   "execution_count": 20,
   "id": "e9d03049-bffd-4337-a350-ae0f831c3ac4",
   "metadata": {},
   "outputs": [
    {
     "name": "stdout",
     "output_type": "stream",
     "text": [
      "      Name  Age  Salary\n",
      "0    Alice   30   60000\n",
      "1      Bob   25   50000\n",
      "2  Charlie   35   70000\n",
      "3    David   28   65000\n",
      "4      Eva   40   80000\n"
     ]
    }
   ],
   "source": [
    "import pandas as pd\n",
    "df=pd.read_csv(\"zomato.csv\")\n",
    "print(df.head())"
   ]
  },
  {
   "cell_type": "code",
   "execution_count": 18,
   "id": "95e1019c-9fed-46cd-8b2c-29ebb11e2464",
   "metadata": {},
   "outputs": [],
   "source": [
    "import pandas as pd"
   ]
  },
  {
   "cell_type": "code",
   "execution_count": 22,
   "id": "f302fb69-d816-429b-bca9-95efcddcee20",
   "metadata": {},
   "outputs": [
    {
     "name": "stdin",
     "output_type": "stream",
     "text": [
      "enter a sentence:  hello hello hi hello\n"
     ]
    },
    {
     "name": "stdout",
     "output_type": "stream",
     "text": [
      "The most common word is 'hello' with 3 occurrences.\n"
     ]
    }
   ],
   "source": [
    "def most_common_word(text):\n",
    "    words = text.lower().split() \n",
    "    word_count = {}  \n",
    "\n",
    "    \n",
    "    for word in words:\n",
    "        word = ''.join(char for char in word if char.isalnum()) \n",
    "        if word:\n",
    "            if word in word_count:\n",
    "                word_count[word] += 1\n",
    "            else:\n",
    "                word_count[word] = 1\n",
    "\n",
    "\n",
    "    most_common = max(word_count, key=word_count.get)\n",
    "\n",
    "    return most_common, word_count[most_common]\n",
    "\n",
    "text=input(\"enter a sentence:\")\n",
    "word, count = most_common_word(text)\n",
    "print(f\"The most common word is '{word}' with {count} occurrences.\")"
   ]
  },
  {
   "cell_type": "code",
   "execution_count": 24,
   "id": "3674be54-10a8-4ad0-bc3e-fae72b51d89f",
   "metadata": {},
   "outputs": [
    {
     "name": "stdout",
     "output_type": "stream",
     "text": [
      "Generated Password: 0L&8ZpJ:%21x\n"
     ]
    }
   ],
   "source": [
    "import random\n",
    "\n",
    "def generate_password(length=12):\n",
    "\n",
    "    uppercase = \"ABCDEFGHIJKLMNOPQRSTUVWXYZ\"\n",
    "    lowercase = \"abcdefghijklmnopqrstuvwxyz\"\n",
    "    digits = \"0123456789\"\n",
    "    special_chars = \"!@#$%^&*()-_=+[]{}|;:'\\\",.<>?/`~\"\n",
    "\n",
    "    \n",
    "    password = [\n",
    "        random.choice(uppercase),\n",
    "        random.choice(lowercase),\n",
    "        random.choice(digits),\n",
    "        random.choice(special_chars)\n",
    "    ]\n",
    "\n",
    "    \n",
    "    all_chars = uppercase + lowercase + digits + special_chars\n",
    "    password += random.choices(all_chars, k=length - 4)\n",
    "\n",
    "    \n",
    "    random.shuffle(password)\n",
    "\n",
    "    \n",
    "    return \"\".join(password)\n",
    "\n",
    "print(\"Generated Password:\", generate_password(12))\n"
   ]
  },
  {
   "cell_type": "code",
   "execution_count": null,
   "id": "09ea8da8-9df7-46df-88dc-b0ad1c24b5b3",
   "metadata": {},
   "outputs": [],
   "source": []
  },
  {
   "cell_type": "code",
   "execution_count": null,
   "id": "4d5862eb-8657-47cc-ab0a-8a012046a157",
   "metadata": {},
   "outputs": [],
   "source": []
  }
 ],
 "metadata": {
  "kernelspec": {
   "display_name": "Python [conda env:base] *",
   "language": "python",
   "name": "conda-base-py"
  },
  "language_info": {
   "codemirror_mode": {
    "name": "ipython",
    "version": 3
   },
   "file_extension": ".py",
   "mimetype": "text/x-python",
   "name": "python",
   "nbconvert_exporter": "python",
   "pygments_lexer": "ipython3",
   "version": "3.12.7"
  }
 },
 "nbformat": 4,
 "nbformat_minor": 5
}
